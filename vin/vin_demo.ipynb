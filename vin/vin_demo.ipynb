{
 "cells": [
  {
   "cell_type": "code",
   "execution_count": 31,
   "metadata": {},
   "outputs": [],
   "source": [
    "import numpy as np\n",
    "import keras as ks\n",
    "from keras.models import Model\n",
    "from keras.layers import Input, Dense, Lambda, Reshape, Permute\n",
    "from keras.layers.convolutional import Conv2D\n",
    "from keras.layers.pooling import MaxPooling3D, MaxPooling2D\n",
    "from keras.layers.merge import concatenate\n",
    "import keras.backend as K\n",
    "\n",
    "from dataset import *"
   ]
  },
  {
   "cell_type": "code",
   "execution_count": 60,
   "metadata": {},
   "outputs": [],
   "source": [
    "train_data = Dataset(\"data/gridworld_8x8.npz\", mode='train', imsize=8)\n",
    "test_data = Dataset(\"data/gridworld_8x8.npz\", mode='test', imsize=8)\n"
   ]
  },
  {
   "cell_type": "code",
   "execution_count": 33,
   "metadata": {
    "collapsed": true
   },
   "outputs": [],
   "source": [
    "def VIN_Block(r, k, ch_q):\n",
    "    conv3 = Conv2D(filters=l_q, \n",
    "                   kernel_size=(3, 3), \n",
    "                   padding='same',\n",
    "                   bias=False)\n",
    "\n",
    "    conv3b = Conv2D(filters=l_q, \n",
    "                   kernel_size=(3, 3), \n",
    "                   padding='same',\n",
    "                   bias=False)\n",
    "    q = conv3(r)\n",
    "\n",
    "    for _ in range(k):\n",
    "        #v = Lambda(lambda x: K.max(x, axis=CHANNEL_AXIS, keepdims=True)),\n",
    "        #           output_shape=(sz,sz,1))(q)\n",
    "        v = MaxPooling3D(pool_size=(1,1,ch_q))(q)\n",
    "        rv = concatenate([r, v], axis=3)\n",
    "        q = conv3b(rv)\n",
    "    return q"
   ]
  },
  {
   "cell_type": "code",
   "execution_count": 57,
   "metadata": {},
   "outputs": [
    {
     "name": "stdout",
     "output_type": "stream",
     "text": [
      "Tensor(\"reshape_11/Reshape:0\", shape=(?, 64, 10), dtype=float32)\n",
      "Tensor(\"lambda_121/map/TensorArrayStack/TensorArrayGatherV3:0\", shape=(?, 10), dtype=float32)\n",
      "Tensor(\"dense_11/Softmax:0\", shape=(?, 8), dtype=float32)\n"
     ]
    }
   ],
   "source": [
    "def VIN(sz, ch_i, k, ch_h, ch_q, ch_a):\n",
    "    map_in = Input(shape=(sz,sz,ch_i))\n",
    "    s = Input(shape=(1,), dtype='int32')\n",
    "    #print(s)\n",
    "    h = Conv2D(filters=ch_h, \n",
    "               kernel_size=(3,3), \n",
    "               padding='same', \n",
    "               activation='relu')(map_in)\n",
    "    r = Conv2D(filters=1, \n",
    "               kernel_size=(3,3), \n",
    "               padding='same',\n",
    "               use_bias=False,\n",
    "               activation=None,\n",
    "               )(h)\n",
    "    conv3 = Conv2D(filters=ch_q, \n",
    "                   kernel_size=(3, 3), \n",
    "                   padding='same',\n",
    "                   use_bias=False)\n",
    "\n",
    "    conv3b = Conv2D(filters=ch_q, \n",
    "                   kernel_size=(3, 3), \n",
    "                   padding='same',\n",
    "                   use_bias=False)\n",
    "    \n",
    "    q = conv3(r)\n",
    "    for _ in range(k):\n",
    "        v = Lambda(lambda x: K.max(x, axis=3, keepdims=True), output_shape=(sz,sz,1))(q)\n",
    "        rv = concatenate([r, v], axis=3)\n",
    "        q = conv3b(rv)\n",
    "    \n",
    "    #print(q)\n",
    "    q = Reshape(target_shape=(sz * sz, ch_q))(q)\n",
    "    #print(q)\n",
    "    \n",
    "    def attention(x):\n",
    "        #x = K.permute_dimensions(x, (1,0,2))\n",
    "        N = K.shape(x)[0]\n",
    "        q_out = K.map_fn(lambda i: K.gather(x[i], s[i,0]), K.arange(0,N), dtype='float32')\n",
    "        return q_out\n",
    "    print(q)\n",
    "    q_out = Lambda(attention, output_shape=(ch_q,))(q)\n",
    "    print(q_out)\n",
    "    out = Dense(units=ch_a, input_shape=(10,), activation='softmax', use_bias=False)(q_out)\n",
    "    print(out)\n",
    "    return Model(inputs=[map_in,s], outputs=out)\n",
    "\n",
    "model = VIN(8, 2, 10, 150, 10, 8)"
   ]
  },
  {
   "cell_type": "code",
   "execution_count": 58,
   "metadata": {},
   "outputs": [
    {
     "name": "stdout",
     "output_type": "stream",
     "text": [
      "(77760, 8, 8, 2)\n",
      "(77760, 8)\n",
      "Epoch 1/5\n",
      "77760/77760 [==============================] - 47s - loss: 0.4227 - acc: 0.8681    \n",
      "Epoch 2/5\n",
      "77760/77760 [==============================] - 46s - loss: 0.2573 - acc: 0.9166    \n",
      "Epoch 3/5\n",
      "77760/77760 [==============================] - 45s - loss: 0.2127 - acc: 0.9317    \n",
      "Epoch 4/5\n",
      "77760/77760 [==============================] - 46s - loss: 0.1673 - acc: 0.9482    \n",
      "Epoch 5/5\n",
      "77760/77760 [==============================] - 46s - loss: 0.1301 - acc: 0.9611    \n"
     ]
    },
    {
     "data": {
      "text/plain": [
       "<keras.callbacks.History at 0x7fab8a236828>"
      ]
     },
     "execution_count": 58,
     "metadata": {},
     "output_type": "execute_result"
    }
   ],
   "source": [
    "model.compile(loss='categorical_crossentropy',\n",
    "              optimizer='sgd',\n",
    "              metrics=['accuracy'])\n",
    "\n",
    "Xtrain = [train_data.images,train_data.s1*8+train_data.s2]\n",
    "Ytrain = K.get_value(K.one_hot(train_data.labels, 8))\n",
    "print(np.shape(Xtrain[0]))\n",
    "print(np.shape(Ytrain))\n",
    "model.fit(Xtrain, Ytrain, epochs=5, batch_size=32)"
   ]
  },
  {
   "cell_type": "code",
   "execution_count": 63,
   "metadata": {},
   "outputs": [
    {
     "name": "stdout",
     "output_type": "stream",
     "text": [
      "12928/12960 [============================>.] - ETA: 0s"
     ]
    },
    {
     "data": {
      "text/plain": [
       "[0.11484493197626032, 0.96388888888888891]"
      ]
     },
     "execution_count": 63,
     "metadata": {},
     "output_type": "execute_result"
    }
   ],
   "source": [
    "Xtest = [test_data.images,test_data.s1*8+test_data.s2]\n",
    "Ytest = K.get_value(K.one_hot(test_data.labels, 8))\n",
    "model.evaluate(Xtest, Ytest)"
   ]
  },
  {
   "cell_type": "code",
   "execution_count": null,
   "metadata": {
    "scrolled": true
   },
   "outputs": [],
   "source": [
    "w = K.one_hot([1],20)\n",
    "x = K.ones_like(w)\n",
    "print(w)\n",
    "y = w*x\n",
    "print(y)\n",
    "x = K.reshape(x, shape=(1,1,20))\n",
    "x = K.concatenate([x,2*x], axis=0)\n",
    "print(x)\n",
    "print(K.reshape(x,shape=[-1]))\n",
    "\n",
    "z = K.gather(x, 1)\n",
    "print(z)\n",
    "K.get_value(z)\n",
    "#y=K.sum(w*x)\n",
    "#print(y)\n",
    "ten = K.arange(0,2)\n",
    "print(ten, x)\n",
    "K.map_fn(lambda s: s[0], (ten, x))\n",
    "\n",
    "idx = K.stack([K.arange(0,10),K.arange(0,10)], axis=1)\n",
    "print(idx)\n",
    "print(K.get_value(idx))\n"
   ]
  }
 ],
 "metadata": {
  "kernelspec": {
   "display_name": "Python 3",
   "language": "python",
   "name": "python3"
  },
  "language_info": {
   "codemirror_mode": {
    "name": "ipython",
    "version": 3
   },
   "file_extension": ".py",
   "mimetype": "text/x-python",
   "name": "python",
   "nbconvert_exporter": "python",
   "pygments_lexer": "ipython3",
   "version": "3.5.2"
  }
 },
 "nbformat": 4,
 "nbformat_minor": 2
}
